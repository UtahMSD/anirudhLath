{
 "cells": [
  {
   "cell_type": "markdown",
   "source": [
    "# Homework 2 - Hypothesis Testing"
   ],
   "metadata": {
    "collapsed": false,
    "pycharm": {
     "name": "#%% md\n"
    }
   }
  },
  {
   "cell_type": "markdown",
   "source": [
    "Homework setup such as imports are mentioned below."
   ],
   "metadata": {
    "collapsed": false,
    "pycharm": {
     "name": "#%% md\n"
    }
   }
  },
  {
   "cell_type": "code",
   "execution_count": 165,
   "outputs": [],
   "source": [
    "import pandas as pd"
   ],
   "metadata": {
    "collapsed": false,
    "pycharm": {
     "name": "#%%\n"
    }
   }
  },
  {
   "cell_type": "markdown",
   "source": [
    "## Part 1"
   ],
   "metadata": {
    "collapsed": false,
    "pycharm": {
     "name": "#%% md\n"
    }
   }
  },
  {
   "cell_type": "markdown",
   "source": [
    "## Part 2"
   ],
   "metadata": {
    "collapsed": false,
    "pycharm": {
     "name": "#%% md\n"
    }
   }
  },
  {
   "cell_type": "markdown",
   "source": [
    "### Task 1: Import the Data\n",
    "Use the pandas.read_csv() function to import the dataset. The data is contained in two files: realEstate1.csv and realEstate2.csv. After you import these files separately, concatenate them into one big dataframe. This pandas dataframe will be used for data exploration and linear regression."
   ],
   "metadata": {
    "collapsed": false,
    "pycharm": {
     "name": "#%% md\n"
    }
   }
  },
  {
   "cell_type": "code",
   "execution_count": 166,
   "metadata": {
    "collapsed": true,
    "pycharm": {
     "name": "#%%\n"
    }
   },
   "outputs": [
    {
     "data": {
      "text/plain": "      ListNo                  Access  AdditInfo  Acres             ListAgt  \\\n0    1397571                Concrete        NaN   0.29          Liz Slager   \n1    1394021                 Asphalt        NaN   0.01      Angela Carlson   \n2    1393604                     NaN        NaN   0.11     Rachel Kitterer   \n3    1393602                Concrete        NaN   0.14     Rachel Kitterer   \n4    1393829                 Asphalt        NaN   0.01  T. Carter Maudsley   \n..       ...                     ...        ...    ...                 ...   \n343  1277128                Concrete        NaN   0.28          Liz Slager   \n344  1265274                Concrete        NaN   0.01    PATRICK WISCOMBE   \n345  1241781                Concrete        NaN   0.00     Jacqui Johnston   \n346  1238399                     NaN        NaN   0.07        Grady Kohler   \n347  1222911  Common Drive; Concrete        NaN   0.01       Jennifer Beck   \n\n                              AirType  \\\n0               Central Air; Electric   \n1               Central Air; Electric   \n2               Central Air; Electric   \n3               Central Air; Electric   \n4               Central Air; Electric   \n..                                ...   \n343             Central Air; Electric   \n344             Central Air; Electric   \n345             Central Air; Electric   \n346             Central Air; Electric   \n347  Central Air; Electric; Heat Pump   \n\n                                             Amenities  Area  BackDim  \\\n0    See Remarks; Cable Tv Available; Cable Tv Wire...   101      0.0   \n1            Cable Tv Available; Electric Dryer Hookup   101      0.0   \n2                Cable Tv Wired; Electric Dryer Hookup   101      0.0   \n3                Cable Tv Wired; Electric Dryer Hookup   101      0.0   \n4                                       Cable Tv Wired   101      0.0   \n..                                                 ...   ...      ...   \n343  Cable Tv Wired; Electric Dryer Hookup; Exercis...   101      0.0   \n344  Electric Dryer Hookup; Exercise Room; Gas Drye...   101      0.0   \n345                       Exercise Room; Swimming Pool   101      0.0   \n346          Cable Tv Available; Electric Dryer Hookup   101      0.0   \n347  Cable Tv Wired; Clubhouse; Electric Dryer Hook...   101      0.0   \n\n                               Basemnt  ...  WinEvp1 WinEvp2 WinEvp3 WinEvp4  \\\n0    Daylight; Entrance; Full; Walkout  ...        0       0       0       0   \n1                     None/Crawl Space  ...        0       0       0       0   \n2                                 Full  ...        0       0       0       0   \n3                                 Full  ...        0       0       0       0   \n4                     None/Crawl Space  ...        0       0       0       0   \n..                                 ...  ...      ...     ...     ...     ...   \n343                   Partial; Walkout  ...        0       0       0       0   \n344                   None/Crawl Space  ...        0       0       0       0   \n345                   None/Crawl Space  ...        0       0       0       0   \n346                   None/Crawl Space  ...        0       0       0       0   \n347                   None/Crawl Space  ...        0       0       0       0   \n\n                          Window    WithDrDt YearBlt    Zip Zoning     LastMod  \n0                         Blinds  00/00/0000    1998  84103    NaN  08/29/2016  \n1    Blinds; Plantation Shutters  00/00/0000    1965  84103    RES  08/22/2016  \n2    Blinds; Plantation Shutters  00/00/0000    1940  84103    NaN  08/29/2016  \n3                         Blinds  00/00/0000    1940  84103    NaN  08/29/2016  \n4                            NaN  00/00/0000    1969  84103    NaN  08/18/2016  \n..                           ...         ...     ...    ...    ...         ...  \n343                 Blinds; Full  00/00/0000    1978  84103    RES  10/06/2015  \n344                 Full; Shades  00/00/0000    1979  84103    NaN  05/24/2016  \n345                    Draperies  00/00/0000    1976  84103  CONDO  10/29/2015  \n346                          NaN  00/00/0000    1886  84103    NaN  09/11/2015  \n347                 Blinds; Full  00/00/0000    1981  84103    R-1  10/01/2015  \n\n[348 rows x 206 columns]",
      "text/html": "<div>\n<style scoped>\n    .dataframe tbody tr th:only-of-type {\n        vertical-align: middle;\n    }\n\n    .dataframe tbody tr th {\n        vertical-align: top;\n    }\n\n    .dataframe thead th {\n        text-align: right;\n    }\n</style>\n<table border=\"1\" class=\"dataframe\">\n  <thead>\n    <tr style=\"text-align: right;\">\n      <th></th>\n      <th>ListNo</th>\n      <th>Access</th>\n      <th>AdditInfo</th>\n      <th>Acres</th>\n      <th>ListAgt</th>\n      <th>AirType</th>\n      <th>Amenities</th>\n      <th>Area</th>\n      <th>BackDim</th>\n      <th>Basemnt</th>\n      <th>...</th>\n      <th>WinEvp1</th>\n      <th>WinEvp2</th>\n      <th>WinEvp3</th>\n      <th>WinEvp4</th>\n      <th>Window</th>\n      <th>WithDrDt</th>\n      <th>YearBlt</th>\n      <th>Zip</th>\n      <th>Zoning</th>\n      <th>LastMod</th>\n    </tr>\n  </thead>\n  <tbody>\n    <tr>\n      <th>0</th>\n      <td>1397571</td>\n      <td>Concrete</td>\n      <td>NaN</td>\n      <td>0.29</td>\n      <td>Liz Slager</td>\n      <td>Central Air; Electric</td>\n      <td>See Remarks; Cable Tv Available; Cable Tv Wire...</td>\n      <td>101</td>\n      <td>0.0</td>\n      <td>Daylight; Entrance; Full; Walkout</td>\n      <td>...</td>\n      <td>0</td>\n      <td>0</td>\n      <td>0</td>\n      <td>0</td>\n      <td>Blinds</td>\n      <td>00/00/0000</td>\n      <td>1998</td>\n      <td>84103</td>\n      <td>NaN</td>\n      <td>08/29/2016</td>\n    </tr>\n    <tr>\n      <th>1</th>\n      <td>1394021</td>\n      <td>Asphalt</td>\n      <td>NaN</td>\n      <td>0.01</td>\n      <td>Angela Carlson</td>\n      <td>Central Air; Electric</td>\n      <td>Cable Tv Available; Electric Dryer Hookup</td>\n      <td>101</td>\n      <td>0.0</td>\n      <td>None/Crawl Space</td>\n      <td>...</td>\n      <td>0</td>\n      <td>0</td>\n      <td>0</td>\n      <td>0</td>\n      <td>Blinds; Plantation Shutters</td>\n      <td>00/00/0000</td>\n      <td>1965</td>\n      <td>84103</td>\n      <td>RES</td>\n      <td>08/22/2016</td>\n    </tr>\n    <tr>\n      <th>2</th>\n      <td>1393604</td>\n      <td>NaN</td>\n      <td>NaN</td>\n      <td>0.11</td>\n      <td>Rachel Kitterer</td>\n      <td>Central Air; Electric</td>\n      <td>Cable Tv Wired; Electric Dryer Hookup</td>\n      <td>101</td>\n      <td>0.0</td>\n      <td>Full</td>\n      <td>...</td>\n      <td>0</td>\n      <td>0</td>\n      <td>0</td>\n      <td>0</td>\n      <td>Blinds; Plantation Shutters</td>\n      <td>00/00/0000</td>\n      <td>1940</td>\n      <td>84103</td>\n      <td>NaN</td>\n      <td>08/29/2016</td>\n    </tr>\n    <tr>\n      <th>3</th>\n      <td>1393602</td>\n      <td>Concrete</td>\n      <td>NaN</td>\n      <td>0.14</td>\n      <td>Rachel Kitterer</td>\n      <td>Central Air; Electric</td>\n      <td>Cable Tv Wired; Electric Dryer Hookup</td>\n      <td>101</td>\n      <td>0.0</td>\n      <td>Full</td>\n      <td>...</td>\n      <td>0</td>\n      <td>0</td>\n      <td>0</td>\n      <td>0</td>\n      <td>Blinds</td>\n      <td>00/00/0000</td>\n      <td>1940</td>\n      <td>84103</td>\n      <td>NaN</td>\n      <td>08/29/2016</td>\n    </tr>\n    <tr>\n      <th>4</th>\n      <td>1393829</td>\n      <td>Asphalt</td>\n      <td>NaN</td>\n      <td>0.01</td>\n      <td>T. Carter Maudsley</td>\n      <td>Central Air; Electric</td>\n      <td>Cable Tv Wired</td>\n      <td>101</td>\n      <td>0.0</td>\n      <td>None/Crawl Space</td>\n      <td>...</td>\n      <td>0</td>\n      <td>0</td>\n      <td>0</td>\n      <td>0</td>\n      <td>NaN</td>\n      <td>00/00/0000</td>\n      <td>1969</td>\n      <td>84103</td>\n      <td>NaN</td>\n      <td>08/18/2016</td>\n    </tr>\n    <tr>\n      <th>...</th>\n      <td>...</td>\n      <td>...</td>\n      <td>...</td>\n      <td>...</td>\n      <td>...</td>\n      <td>...</td>\n      <td>...</td>\n      <td>...</td>\n      <td>...</td>\n      <td>...</td>\n      <td>...</td>\n      <td>...</td>\n      <td>...</td>\n      <td>...</td>\n      <td>...</td>\n      <td>...</td>\n      <td>...</td>\n      <td>...</td>\n      <td>...</td>\n      <td>...</td>\n      <td>...</td>\n    </tr>\n    <tr>\n      <th>343</th>\n      <td>1277128</td>\n      <td>Concrete</td>\n      <td>NaN</td>\n      <td>0.28</td>\n      <td>Liz Slager</td>\n      <td>Central Air; Electric</td>\n      <td>Cable Tv Wired; Electric Dryer Hookup; Exercis...</td>\n      <td>101</td>\n      <td>0.0</td>\n      <td>Partial; Walkout</td>\n      <td>...</td>\n      <td>0</td>\n      <td>0</td>\n      <td>0</td>\n      <td>0</td>\n      <td>Blinds; Full</td>\n      <td>00/00/0000</td>\n      <td>1978</td>\n      <td>84103</td>\n      <td>RES</td>\n      <td>10/06/2015</td>\n    </tr>\n    <tr>\n      <th>344</th>\n      <td>1265274</td>\n      <td>Concrete</td>\n      <td>NaN</td>\n      <td>0.01</td>\n      <td>PATRICK WISCOMBE</td>\n      <td>Central Air; Electric</td>\n      <td>Electric Dryer Hookup; Exercise Room; Gas Drye...</td>\n      <td>101</td>\n      <td>0.0</td>\n      <td>None/Crawl Space</td>\n      <td>...</td>\n      <td>0</td>\n      <td>0</td>\n      <td>0</td>\n      <td>0</td>\n      <td>Full; Shades</td>\n      <td>00/00/0000</td>\n      <td>1979</td>\n      <td>84103</td>\n      <td>NaN</td>\n      <td>05/24/2016</td>\n    </tr>\n    <tr>\n      <th>345</th>\n      <td>1241781</td>\n      <td>Concrete</td>\n      <td>NaN</td>\n      <td>0.00</td>\n      <td>Jacqui Johnston</td>\n      <td>Central Air; Electric</td>\n      <td>Exercise Room; Swimming Pool</td>\n      <td>101</td>\n      <td>0.0</td>\n      <td>None/Crawl Space</td>\n      <td>...</td>\n      <td>0</td>\n      <td>0</td>\n      <td>0</td>\n      <td>0</td>\n      <td>Draperies</td>\n      <td>00/00/0000</td>\n      <td>1976</td>\n      <td>84103</td>\n      <td>CONDO</td>\n      <td>10/29/2015</td>\n    </tr>\n    <tr>\n      <th>346</th>\n      <td>1238399</td>\n      <td>NaN</td>\n      <td>NaN</td>\n      <td>0.07</td>\n      <td>Grady Kohler</td>\n      <td>Central Air; Electric</td>\n      <td>Cable Tv Available; Electric Dryer Hookup</td>\n      <td>101</td>\n      <td>0.0</td>\n      <td>None/Crawl Space</td>\n      <td>...</td>\n      <td>0</td>\n      <td>0</td>\n      <td>0</td>\n      <td>0</td>\n      <td>NaN</td>\n      <td>00/00/0000</td>\n      <td>1886</td>\n      <td>84103</td>\n      <td>NaN</td>\n      <td>09/11/2015</td>\n    </tr>\n    <tr>\n      <th>347</th>\n      <td>1222911</td>\n      <td>Common Drive; Concrete</td>\n      <td>NaN</td>\n      <td>0.01</td>\n      <td>Jennifer Beck</td>\n      <td>Central Air; Electric; Heat Pump</td>\n      <td>Cable Tv Wired; Clubhouse; Electric Dryer Hook...</td>\n      <td>101</td>\n      <td>0.0</td>\n      <td>None/Crawl Space</td>\n      <td>...</td>\n      <td>0</td>\n      <td>0</td>\n      <td>0</td>\n      <td>0</td>\n      <td>Blinds; Full</td>\n      <td>00/00/0000</td>\n      <td>1981</td>\n      <td>84103</td>\n      <td>R-1</td>\n      <td>10/01/2015</td>\n    </tr>\n  </tbody>\n</table>\n<p>348 rows × 206 columns</p>\n</div>"
     },
     "metadata": {},
     "output_type": "display_data"
    }
   ],
   "source": [
    "# Import Data\n",
    "re1 = pd.read_csv(\"realEstate1.csv\")\n",
    "re2 = pd.read_csv(\"realEstate2.csv\")\n",
    "\n",
    "# Concatenate Dataframe\n",
    "data_list = [re1, re2]\n",
    "df = pd.concat(data_list, ignore_index=True)\n",
    "display(df)"
   ]
  },
  {
   "cell_type": "markdown",
   "source": [
    "### Task 2: Clean the Data\n",
    "There are 206 different variables associated with each of the 348 houses in this dataset. Skim them and try to get a rough understanding of what information this dataset contains. If you've never seen a real estate listing before, you might take a look at one on this website (Links to an external site.) to get a better sense of the meanings of the column headers in the dataset.\n",
    "\n",
    "Only keep houses with List Price between 200,000 and 1,000,000 dollars. This is an arbitrary choice and we realize that some of you are high rollers, but for our purposes we'll consider the others as outliers.\n",
    "\n",
    "Remove columns that you don't think contribute to the value of the house. This is a personal decision - what attributes of a house are important to you? You should at least keep the following variables since the questions below will use them: ['Acres', 'Deck', 'GaragCap', 'Latitude', 'Longitude', 'LstPrice', 'Patio', 'PkgSpacs', 'PropType', 'SoldPrice', 'Taxes', 'TotBed', 'TotBth', 'TotSqf', 'YearBlt']\n",
    "\n",
    "Check the datatypes and convert any numbers that were read as strings to numerical values. (Hint: You can use str.replace() (Links to an external site.) to work with strings.) If there are any categorical values you're interested in, then you should convert them to numerical values as we saw in the notes (the get_dummies function may help). In particular,\n",
    "\n",
    "Convert 'TotSqf' to an integer.\n",
    "Add a new column titled Prop_Type_SingleFamily that is set to 0 if the i-th listing is a condo or townhouse, or 1 if the i-th listing is a single family house.\n",
    "Remove the listings with erroneous 'Longitude' (one has Longitude = 0) and 'Taxes' values (two have unreasonably large values)."
   ],
   "metadata": {
    "collapsed": false,
    "pycharm": {
     "name": "#%% md\n"
    }
   }
  },
  {
   "cell_type": "code",
   "execution_count": 167,
   "outputs": [
    {
     "data": {
      "text/plain": "     Acres  Deck  GaragCap   Latitude   Longitude  LstPrice  Patio  PkgSpacs  \\\n0     0.29     1         3  40.779524 -111.893542    725000      1         0   \n1     0.01     0         0  40.773243 -111.883291    205000      0         0   \n2     0.11     0         0  40.773972 -111.867470    390000      1         0   \n3     0.14     0         1  40.783009 -111.872100    445000      1         3   \n4     0.01     0         2  40.771693 -111.886951    339000      0         2   \n..     ...   ...       ...        ...         ...       ...    ...       ...   \n249   0.28     1         3  40.782933 -111.851143    995000      0         6   \n250   0.01     0         2  40.770904 -111.886201    349999      2         2   \n251   0.00     0         0  40.773843 -111.891911    249900      0         0   \n252   0.07     0         1  40.772835 -111.854867    330000      0         0   \n253   0.01     1         2  40.771980 -111.885262    385000      1         0   \n\n          PropType  SoldPrice  Taxes  TotBed  TotBth  TotSqf  YearBlt  \\\n0    Single Family     752000   7244     4.0     5.0    5415     1998   \n1            Condo     205000   1431     2.0     1.0     924     1965   \n2    Single Family     390000   1816     3.0     1.0    1702     1940   \n3    Single Family     443000   3260     3.0     2.0    1756     1940   \n4            Condo     334000   2141     3.0     2.0    1368     1976   \n..             ...        ...    ...     ...     ...     ...      ...   \n249  Single Family     949000   6658     6.0     4.0    5740     1978   \n250          Condo     340000   1877     2.0     2.0    1473     1979   \n251          Condo     231000   2812     2.0     2.0    1385     1976   \n252  Single Family     310000   2079     5.0     3.0    2094     1886   \n253          Condo     370000   3644     2.0     2.0    2028     1981   \n\n     Prop_Type_SingleFamily  \n0                         1  \n1                         0  \n2                         1  \n3                         1  \n4                         0  \n..                      ...  \n249                       1  \n250                       0  \n251                       0  \n252                       1  \n253                       0  \n\n[254 rows x 16 columns]",
      "text/html": "<div>\n<style scoped>\n    .dataframe tbody tr th:only-of-type {\n        vertical-align: middle;\n    }\n\n    .dataframe tbody tr th {\n        vertical-align: top;\n    }\n\n    .dataframe thead th {\n        text-align: right;\n    }\n</style>\n<table border=\"1\" class=\"dataframe\">\n  <thead>\n    <tr style=\"text-align: right;\">\n      <th></th>\n      <th>Acres</th>\n      <th>Deck</th>\n      <th>GaragCap</th>\n      <th>Latitude</th>\n      <th>Longitude</th>\n      <th>LstPrice</th>\n      <th>Patio</th>\n      <th>PkgSpacs</th>\n      <th>PropType</th>\n      <th>SoldPrice</th>\n      <th>Taxes</th>\n      <th>TotBed</th>\n      <th>TotBth</th>\n      <th>TotSqf</th>\n      <th>YearBlt</th>\n      <th>Prop_Type_SingleFamily</th>\n    </tr>\n  </thead>\n  <tbody>\n    <tr>\n      <th>0</th>\n      <td>0.29</td>\n      <td>1</td>\n      <td>3</td>\n      <td>40.779524</td>\n      <td>-111.893542</td>\n      <td>725000</td>\n      <td>1</td>\n      <td>0</td>\n      <td>Single Family</td>\n      <td>752000</td>\n      <td>7244</td>\n      <td>4.0</td>\n      <td>5.0</td>\n      <td>5415</td>\n      <td>1998</td>\n      <td>1</td>\n    </tr>\n    <tr>\n      <th>1</th>\n      <td>0.01</td>\n      <td>0</td>\n      <td>0</td>\n      <td>40.773243</td>\n      <td>-111.883291</td>\n      <td>205000</td>\n      <td>0</td>\n      <td>0</td>\n      <td>Condo</td>\n      <td>205000</td>\n      <td>1431</td>\n      <td>2.0</td>\n      <td>1.0</td>\n      <td>924</td>\n      <td>1965</td>\n      <td>0</td>\n    </tr>\n    <tr>\n      <th>2</th>\n      <td>0.11</td>\n      <td>0</td>\n      <td>0</td>\n      <td>40.773972</td>\n      <td>-111.867470</td>\n      <td>390000</td>\n      <td>1</td>\n      <td>0</td>\n      <td>Single Family</td>\n      <td>390000</td>\n      <td>1816</td>\n      <td>3.0</td>\n      <td>1.0</td>\n      <td>1702</td>\n      <td>1940</td>\n      <td>1</td>\n    </tr>\n    <tr>\n      <th>3</th>\n      <td>0.14</td>\n      <td>0</td>\n      <td>1</td>\n      <td>40.783009</td>\n      <td>-111.872100</td>\n      <td>445000</td>\n      <td>1</td>\n      <td>3</td>\n      <td>Single Family</td>\n      <td>443000</td>\n      <td>3260</td>\n      <td>3.0</td>\n      <td>2.0</td>\n      <td>1756</td>\n      <td>1940</td>\n      <td>1</td>\n    </tr>\n    <tr>\n      <th>4</th>\n      <td>0.01</td>\n      <td>0</td>\n      <td>2</td>\n      <td>40.771693</td>\n      <td>-111.886951</td>\n      <td>339000</td>\n      <td>0</td>\n      <td>2</td>\n      <td>Condo</td>\n      <td>334000</td>\n      <td>2141</td>\n      <td>3.0</td>\n      <td>2.0</td>\n      <td>1368</td>\n      <td>1976</td>\n      <td>0</td>\n    </tr>\n    <tr>\n      <th>...</th>\n      <td>...</td>\n      <td>...</td>\n      <td>...</td>\n      <td>...</td>\n      <td>...</td>\n      <td>...</td>\n      <td>...</td>\n      <td>...</td>\n      <td>...</td>\n      <td>...</td>\n      <td>...</td>\n      <td>...</td>\n      <td>...</td>\n      <td>...</td>\n      <td>...</td>\n      <td>...</td>\n    </tr>\n    <tr>\n      <th>249</th>\n      <td>0.28</td>\n      <td>1</td>\n      <td>3</td>\n      <td>40.782933</td>\n      <td>-111.851143</td>\n      <td>995000</td>\n      <td>0</td>\n      <td>6</td>\n      <td>Single Family</td>\n      <td>949000</td>\n      <td>6658</td>\n      <td>6.0</td>\n      <td>4.0</td>\n      <td>5740</td>\n      <td>1978</td>\n      <td>1</td>\n    </tr>\n    <tr>\n      <th>250</th>\n      <td>0.01</td>\n      <td>0</td>\n      <td>2</td>\n      <td>40.770904</td>\n      <td>-111.886201</td>\n      <td>349999</td>\n      <td>2</td>\n      <td>2</td>\n      <td>Condo</td>\n      <td>340000</td>\n      <td>1877</td>\n      <td>2.0</td>\n      <td>2.0</td>\n      <td>1473</td>\n      <td>1979</td>\n      <td>0</td>\n    </tr>\n    <tr>\n      <th>251</th>\n      <td>0.00</td>\n      <td>0</td>\n      <td>0</td>\n      <td>40.773843</td>\n      <td>-111.891911</td>\n      <td>249900</td>\n      <td>0</td>\n      <td>0</td>\n      <td>Condo</td>\n      <td>231000</td>\n      <td>2812</td>\n      <td>2.0</td>\n      <td>2.0</td>\n      <td>1385</td>\n      <td>1976</td>\n      <td>0</td>\n    </tr>\n    <tr>\n      <th>252</th>\n      <td>0.07</td>\n      <td>0</td>\n      <td>1</td>\n      <td>40.772835</td>\n      <td>-111.854867</td>\n      <td>330000</td>\n      <td>0</td>\n      <td>0</td>\n      <td>Single Family</td>\n      <td>310000</td>\n      <td>2079</td>\n      <td>5.0</td>\n      <td>3.0</td>\n      <td>2094</td>\n      <td>1886</td>\n      <td>1</td>\n    </tr>\n    <tr>\n      <th>253</th>\n      <td>0.01</td>\n      <td>1</td>\n      <td>2</td>\n      <td>40.771980</td>\n      <td>-111.885262</td>\n      <td>385000</td>\n      <td>1</td>\n      <td>0</td>\n      <td>Condo</td>\n      <td>370000</td>\n      <td>3644</td>\n      <td>2.0</td>\n      <td>2.0</td>\n      <td>2028</td>\n      <td>1981</td>\n      <td>0</td>\n    </tr>\n  </tbody>\n</table>\n<p>254 rows × 16 columns</p>\n</div>"
     },
     "execution_count": 167,
     "metadata": {},
     "output_type": "execute_result"
    }
   ],
   "source": [
    "df = df[(df.LstPrice >= 200000) & (df.LstPrice <= 1000000)] # Filter Data\n",
    "df.reset_index(inplace=True, drop=True) # Fix index\n",
    "\n",
    "# Filter columns\n",
    "df = df[['Acres', 'Deck', 'GaragCap', 'Latitude', 'Longitude', 'LstPrice', 'Patio', 'PkgSpacs', 'PropType', 'SoldPrice', 'Taxes', 'TotBed', 'TotBth', 'TotSqf', 'YearBlt']]\n",
    "\n",
    "# Fix dtypes\n",
    "df.TotSqf = pd.Series(df.TotSqf).str.replace(',', '', regex=True)\n",
    "df.TotSqf = pd.to_numeric(df.TotSqf)\n",
    "\n",
    "Prop_Type_SingleFamily_data = []\n",
    "\n",
    "for i in df['PropType']:\n",
    "    if i == 'Single Family':\n",
    "        Prop_Type_SingleFamily_data.append(1)\n",
    "    else:\n",
    "        Prop_Type_SingleFamily_data.append(0)\n",
    "\n",
    "df['Prop_Type_SingleFamily'] = Prop_Type_SingleFamily_data\n",
    "\n",
    "df = df[(df.Longitude != 0) & (df.Taxes <= 10000) & (df.Taxes >= 1000)] # Filter Data\n",
    "df.reset_index(inplace=True, drop=True) # Fix index\n",
    "df"
   ],
   "metadata": {
    "collapsed": false,
    "pycharm": {
     "name": "#%%\n"
    }
   }
  },
  {
   "cell_type": "markdown",
   "source": [
    "### Task 3: Exploratory Data Analysis\n",
    "Explore the dataset. Write a short description of the dataset describing the number of items, the number of variables and check to see if the values are reasonable."
   ],
   "metadata": {
    "collapsed": false,
    "pycharm": {
     "name": "#%% md\n"
    }
   }
  },
  {
   "cell_type": "code",
   "execution_count": 168,
   "outputs": [
    {
     "data": {
      "text/plain": "            Acres        Deck    GaragCap    Latitude   Longitude  \\\ncount  254.000000  254.000000  254.000000  254.000000  254.000000   \nmean     0.132323    0.681102    1.283465   40.777405 -111.875359   \nstd      0.124623    0.798143    0.973138    0.005784    0.013801   \nmin      0.000000    0.000000    0.000000   40.769424 -111.913645   \n25%      0.050000    0.000000    0.250000   40.772358 -111.886521   \n50%      0.110000    1.000000    1.000000   40.775630 -111.874036   \n75%      0.160000    1.000000    2.000000   40.781845 -111.865921   \nmax      0.690000    5.000000    5.000000   40.791059 -111.843083   \n\n             LstPrice       Patio    PkgSpacs      SoldPrice        Taxes  \\\ncount      254.000000  254.000000  254.000000     254.000000   254.000000   \nmean    468331.744094    0.633858    1.035433  455283.622047  3083.917323   \nstd     200026.738539    0.685677    1.588846  189861.027774  1664.854395   \nmin     200000.000000    0.000000    0.000000  190000.000000  1100.000000   \n25%     315000.000000    0.000000    0.000000  310000.000000  1897.000000   \n50%     419000.000000    1.000000    0.000000  401500.000000  2472.000000   \n75%     598000.000000    1.000000    2.000000  570000.000000  3861.750000   \nmax    1000000.000000    3.000000    8.000000  980000.000000  9205.000000   \n\n           TotBed      TotBth       TotSqf      YearBlt  \\\ncount  254.000000  254.000000   254.000000   254.000000   \nmean     3.228346    2.543307  2503.708661  1940.468504   \nstd      1.242775    1.076195  1223.088956    35.887354   \nmin      1.000000    0.000000   844.000000  1852.000000   \n25%      2.000000    2.000000  1550.500000  1908.000000   \n50%      3.000000    2.000000  2272.500000  1937.000000   \n75%      4.000000    3.000000  3081.000000  1976.000000   \nmax      8.000000    7.000000  7508.000000  2015.000000   \n\n       Prop_Type_SingleFamily  \ncount              254.000000  \nmean                 0.748031  \nstd                  0.435000  \nmin                  0.000000  \n25%                  0.250000  \n50%                  1.000000  \n75%                  1.000000  \nmax                  1.000000  ",
      "text/html": "<div>\n<style scoped>\n    .dataframe tbody tr th:only-of-type {\n        vertical-align: middle;\n    }\n\n    .dataframe tbody tr th {\n        vertical-align: top;\n    }\n\n    .dataframe thead th {\n        text-align: right;\n    }\n</style>\n<table border=\"1\" class=\"dataframe\">\n  <thead>\n    <tr style=\"text-align: right;\">\n      <th></th>\n      <th>Acres</th>\n      <th>Deck</th>\n      <th>GaragCap</th>\n      <th>Latitude</th>\n      <th>Longitude</th>\n      <th>LstPrice</th>\n      <th>Patio</th>\n      <th>PkgSpacs</th>\n      <th>SoldPrice</th>\n      <th>Taxes</th>\n      <th>TotBed</th>\n      <th>TotBth</th>\n      <th>TotSqf</th>\n      <th>YearBlt</th>\n      <th>Prop_Type_SingleFamily</th>\n    </tr>\n  </thead>\n  <tbody>\n    <tr>\n      <th>count</th>\n      <td>254.000000</td>\n      <td>254.000000</td>\n      <td>254.000000</td>\n      <td>254.000000</td>\n      <td>254.000000</td>\n      <td>254.000000</td>\n      <td>254.000000</td>\n      <td>254.000000</td>\n      <td>254.000000</td>\n      <td>254.000000</td>\n      <td>254.000000</td>\n      <td>254.000000</td>\n      <td>254.000000</td>\n      <td>254.000000</td>\n      <td>254.000000</td>\n    </tr>\n    <tr>\n      <th>mean</th>\n      <td>0.132323</td>\n      <td>0.681102</td>\n      <td>1.283465</td>\n      <td>40.777405</td>\n      <td>-111.875359</td>\n      <td>468331.744094</td>\n      <td>0.633858</td>\n      <td>1.035433</td>\n      <td>455283.622047</td>\n      <td>3083.917323</td>\n      <td>3.228346</td>\n      <td>2.543307</td>\n      <td>2503.708661</td>\n      <td>1940.468504</td>\n      <td>0.748031</td>\n    </tr>\n    <tr>\n      <th>std</th>\n      <td>0.124623</td>\n      <td>0.798143</td>\n      <td>0.973138</td>\n      <td>0.005784</td>\n      <td>0.013801</td>\n      <td>200026.738539</td>\n      <td>0.685677</td>\n      <td>1.588846</td>\n      <td>189861.027774</td>\n      <td>1664.854395</td>\n      <td>1.242775</td>\n      <td>1.076195</td>\n      <td>1223.088956</td>\n      <td>35.887354</td>\n      <td>0.435000</td>\n    </tr>\n    <tr>\n      <th>min</th>\n      <td>0.000000</td>\n      <td>0.000000</td>\n      <td>0.000000</td>\n      <td>40.769424</td>\n      <td>-111.913645</td>\n      <td>200000.000000</td>\n      <td>0.000000</td>\n      <td>0.000000</td>\n      <td>190000.000000</td>\n      <td>1100.000000</td>\n      <td>1.000000</td>\n      <td>0.000000</td>\n      <td>844.000000</td>\n      <td>1852.000000</td>\n      <td>0.000000</td>\n    </tr>\n    <tr>\n      <th>25%</th>\n      <td>0.050000</td>\n      <td>0.000000</td>\n      <td>0.250000</td>\n      <td>40.772358</td>\n      <td>-111.886521</td>\n      <td>315000.000000</td>\n      <td>0.000000</td>\n      <td>0.000000</td>\n      <td>310000.000000</td>\n      <td>1897.000000</td>\n      <td>2.000000</td>\n      <td>2.000000</td>\n      <td>1550.500000</td>\n      <td>1908.000000</td>\n      <td>0.250000</td>\n    </tr>\n    <tr>\n      <th>50%</th>\n      <td>0.110000</td>\n      <td>1.000000</td>\n      <td>1.000000</td>\n      <td>40.775630</td>\n      <td>-111.874036</td>\n      <td>419000.000000</td>\n      <td>1.000000</td>\n      <td>0.000000</td>\n      <td>401500.000000</td>\n      <td>2472.000000</td>\n      <td>3.000000</td>\n      <td>2.000000</td>\n      <td>2272.500000</td>\n      <td>1937.000000</td>\n      <td>1.000000</td>\n    </tr>\n    <tr>\n      <th>75%</th>\n      <td>0.160000</td>\n      <td>1.000000</td>\n      <td>2.000000</td>\n      <td>40.781845</td>\n      <td>-111.865921</td>\n      <td>598000.000000</td>\n      <td>1.000000</td>\n      <td>2.000000</td>\n      <td>570000.000000</td>\n      <td>3861.750000</td>\n      <td>4.000000</td>\n      <td>3.000000</td>\n      <td>3081.000000</td>\n      <td>1976.000000</td>\n      <td>1.000000</td>\n    </tr>\n    <tr>\n      <th>max</th>\n      <td>0.690000</td>\n      <td>5.000000</td>\n      <td>5.000000</td>\n      <td>40.791059</td>\n      <td>-111.843083</td>\n      <td>1000000.000000</td>\n      <td>3.000000</td>\n      <td>8.000000</td>\n      <td>980000.000000</td>\n      <td>9205.000000</td>\n      <td>8.000000</td>\n      <td>7.000000</td>\n      <td>7508.000000</td>\n      <td>2015.000000</td>\n      <td>1.000000</td>\n    </tr>\n  </tbody>\n</table>\n</div>"
     },
     "execution_count": 168,
     "metadata": {},
     "output_type": "execute_result"
    }
   ],
   "source": [
    "df.describe()"
   ],
   "metadata": {
    "collapsed": false,
    "pycharm": {
     "name": "#%%\n"
    }
   }
  },
  {
   "cell_type": "markdown",
   "source": [
    "The dataset has exactly 254 entries and has 14 variables. I found that there was an entry with tax = 1, so I filtered the data above in Task 2, to have the lowest tax value as 1000. Apart from that the data seems to be pretty reasonable."
   ],
   "metadata": {
    "collapsed": false,
    "pycharm": {
     "name": "#%% md\n"
    }
   }
  }
 ],
 "metadata": {
  "kernelspec": {
   "display_name": "Python 3",
   "language": "python",
   "name": "python3"
  },
  "language_info": {
   "codemirror_mode": {
    "name": "ipython",
    "version": 2
   },
   "file_extension": ".py",
   "mimetype": "text/x-python",
   "name": "python",
   "nbconvert_exporter": "python",
   "pygments_lexer": "ipython2",
   "version": "2.7.6"
  }
 },
 "nbformat": 4,
 "nbformat_minor": 0
}