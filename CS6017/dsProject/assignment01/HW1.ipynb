{
 "cells": [
  {
   "cell_type": "markdown",
   "source": [
    "Anirudh Lath, u1149016, May 30 2022, HW1"
   ],
   "metadata": {
    "collapsed": false,
    "pycharm": {
     "name": "#%% md\n"
    }
   }
  },
  {
   "cell_type": "code",
   "execution_count": 448,
   "metadata": {
    "collapsed": true,
    "pycharm": {
     "name": "#%%\n"
    }
   },
   "outputs": [],
   "source": [
    "import numpy as np\n",
    "import math\n",
    "import statistics"
   ]
  },
  {
   "cell_type": "code",
   "execution_count": 449,
   "outputs": [],
   "source": [
    "random_array = np.random.random(100000)"
   ],
   "metadata": {
    "collapsed": false,
    "pycharm": {
     "name": "#%%\n"
    }
   }
  },
  {
   "cell_type": "code",
   "execution_count": 450,
   "outputs": [],
   "source": [
    "def calculateMean(x):\n",
    "    sum = 0.0\n",
    "    for num in x:\n",
    "        sum += num\n",
    "\n",
    "    mean = sum / len(x)\n",
    "\n",
    "    return mean"
   ],
   "metadata": {
    "collapsed": false,
    "pycharm": {
     "name": "#%%\n"
    }
   }
  },
  {
   "cell_type": "code",
   "execution_count": 451,
   "outputs": [],
   "source": [
    "def calculateSd(arr, mean):\n",
    "    sum = 0.0\n",
    "\n",
    "    for num in arr:\n",
    "        sum += (num - mean) * (num - mean)\n",
    "\n",
    "    return math.sqrt(sum / len(arr))"
   ],
   "metadata": {
    "collapsed": false,
    "pycharm": {
     "name": "#%%\n"
    }
   }
  },
  {
   "cell_type": "code",
   "execution_count": 452,
   "outputs": [
    {
     "name": "stdout",
     "output_type": "stream",
     "text": [
      "My Mean:      0.4995370834630255\n",
      "NumPy Mean:   0.4995370834630273\n",
      "My SD         0.2884674847667011\n",
      "NumPy SD:     0.28846748476670164\n"
     ]
    }
   ],
   "source": [
    "mean = calculateMean(random_array)\n",
    "sd = calculateSd(random_array, mean)\n",
    "print(\"My Mean:     \", mean)\n",
    "print(\"NumPy Mean:  \", np.mean(random_array))\n",
    "print(\"My SD        \", sd)\n",
    "print(\"NumPy SD:    \", np.std(random_array))"
   ],
   "metadata": {
    "collapsed": false,
    "pycharm": {
     "name": "#%%\n"
    }
   }
  }
 ],
 "metadata": {
  "kernelspec": {
   "display_name": "Python 3",
   "language": "python",
   "name": "python3"
  },
  "language_info": {
   "codemirror_mode": {
    "name": "ipython",
    "version": 2
   },
   "file_extension": ".py",
   "mimetype": "text/x-python",
   "name": "python",
   "nbconvert_exporter": "python",
   "pygments_lexer": "ipython2",
   "version": "2.7.6"
  }
 },
 "nbformat": 4,
 "nbformat_minor": 0
}