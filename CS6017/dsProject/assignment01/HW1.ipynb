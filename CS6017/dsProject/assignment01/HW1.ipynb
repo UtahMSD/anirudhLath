{
 "cells": [
  {
   "cell_type": "markdown",
   "source": [
    "Anirudh Lath, u1149016, May 30 2022, HW1"
   ],
   "metadata": {
    "collapsed": false,
    "pycharm": {
     "name": "#%% md\n"
    }
   }
  },
  {
   "cell_type": "code",
   "execution_count": 668,
   "metadata": {
    "collapsed": true,
    "pycharm": {
     "name": "#%%\n"
    }
   },
   "outputs": [],
   "source": [
    "import numpy as np\n",
    "import math\n",
    "import pandas as pd\n",
    "from scipy.stats import norm\n",
    "import matplotlib.pyplot as plt\n",
    "import statistics"
   ]
  },
  {
   "cell_type": "code",
   "execution_count": 669,
   "outputs": [],
   "source": [
    "random_array = np.random.random(100)"
   ],
   "metadata": {
    "collapsed": false,
    "pycharm": {
     "name": "#%%\n"
    }
   }
  },
  {
   "cell_type": "code",
   "execution_count": 670,
   "outputs": [],
   "source": [
    "def calculateMean(x):\n",
    "    sum = 0.0\n",
    "    for num in x:\n",
    "        sum += num\n",
    "        #print(sum)\n",
    "\n",
    "    mean = sum / len(x)\n",
    "\n",
    "    return mean"
   ],
   "metadata": {
    "collapsed": false,
    "pycharm": {
     "name": "#%%\n"
    }
   }
  },
  {
   "cell_type": "code",
   "execution_count": 671,
   "outputs": [],
   "source": [
    "def calculateSd(arr, mean):\n",
    "    sum = 0.0\n",
    "\n",
    "    for num in arr:\n",
    "        sum += (num - mean) * (num - mean)\n",
    "\n",
    "    return math.sqrt(sum / len(arr))"
   ],
   "metadata": {
    "collapsed": false,
    "pycharm": {
     "name": "#%%\n"
    }
   }
  },
  {
   "cell_type": "markdown",
   "source": [
    "Verifying custom functions against numPy functions"
   ],
   "metadata": {
    "collapsed": false,
    "pycharm": {
     "name": "#%% md\n"
    }
   }
  },
  {
   "cell_type": "code",
   "execution_count": 672,
   "outputs": [
    {
     "name": "stdout",
     "output_type": "stream",
     "text": [
      "My Mean:      0.49417797975676037\n",
      "NumPy Mean:   0.49417797975676037\n",
      "My SD         0.2750978982505207\n",
      "NumPy SD:     0.2750978982505207\n"
     ]
    }
   ],
   "source": [
    "mean = calculateMean(random_array)\n",
    "sd = calculateSd(random_array, mean)\n",
    "print(\"My Mean:     \", mean)\n",
    "print(\"NumPy Mean:  \", np.mean(random_array))\n",
    "print(\"My SD        \", sd)\n",
    "print(\"NumPy SD:    \", np.std(random_array))"
   ],
   "metadata": {
    "collapsed": false,
    "pycharm": {
     "name": "#%%\n"
    }
   }
  },
  {
   "cell_type": "markdown",
   "source": [
    "I think it is safe to say that the custom function work well, and there is a negligible margin of error between them. Hence, I will assume that the functions have been verified and safe to use later in this assignment."
   ],
   "metadata": {
    "collapsed": false,
    "pycharm": {
     "name": "#%% md\n"
    }
   }
  },
  {
   "cell_type": "markdown",
   "source": [
    "## What happen if the array size is increased to 100000?"
   ],
   "metadata": {
    "collapsed": false,
    "pycharm": {
     "name": "#%% md\n"
    }
   }
  },
  {
   "cell_type": "code",
   "execution_count": 673,
   "outputs": [
    {
     "name": "stdout",
     "output_type": "stream",
     "text": [
      "My Mean:      0.4998240059906516\n",
      "NumPy Mean:   0.49982400599065063\n",
      "My SD         0.28894323173566083\n",
      "NumPy SD:     0.28894323173566133\n"
     ]
    }
   ],
   "source": [
    "random_array = np.random.random(100000)\n",
    "mean = calculateMean(random_array)\n",
    "sd = calculateSd(random_array, mean)\n",
    "print(\"My Mean:     \", mean)\n",
    "print(\"NumPy Mean:  \", np.mean(random_array))\n",
    "print(\"My SD        \", sd)\n",
    "print(\"NumPy SD:    \", np.std(random_array))"
   ],
   "metadata": {
    "collapsed": false,
    "pycharm": {
     "name": "#%%\n"
    }
   }
  },
  {
   "cell_type": "markdown",
   "source": [
    "Using similar procedure, if I increase the array size, looks like the mean value is much closer to the exact mean of 0.5, I believe as the set size is increased, it allows the average to fall closer to the center in the range of 0 to 1. The standard deviation also seems to get smaller for similar reason. My hypothesis is that between when the set size increases and is constrained to a range of values, the chance of filling up every possible value in that increases due to which it erradicates the idea of randomness and bring the mean and standard deviation closer to the constant mean and sd of that range."
   ],
   "metadata": {
    "collapsed": false,
    "pycharm": {
     "name": "#%% md\n"
    }
   }
  },
  {
   "cell_type": "markdown",
   "source": [
    "## Normal Distribution using scipy.stats.norm"
   ],
   "metadata": {
    "collapsed": false,
    "pycharm": {
     "name": "#%% md\n"
    }
   }
  },
  {
   "cell_type": "code",
   "execution_count": 674,
   "outputs": [
    {
     "name": "stdout",
     "output_type": "stream",
     "text": [
      "My Mean:      -0.0037923855623534096\n",
      "NumPy Mean:   -0.003792385562353416\n",
      "My SD         0.9918654014266766\n",
      "NumPy SD:     0.9918654014266751\n"
     ]
    }
   ],
   "source": [
    "normal_array = np.array(norm.rvs(size=10000))\n",
    "mean = calculateMean(normal_array)\n",
    "sd = calculateSd(normal_array, mean)\n",
    "print(\"My Mean:     \", mean)\n",
    "print(\"NumPy Mean:  \", np.mean(normal_array))\n",
    "print(\"My SD        \", sd)\n",
    "print(\"NumPy SD:    \", np.std(normal_array))"
   ],
   "metadata": {
    "collapsed": false,
    "pycharm": {
     "name": "#%%\n"
    }
   }
  },
  {
   "cell_type": "markdown",
   "source": [
    "It seems like we're getting the expected results, therefore it is safe to say that this experiment has passed."
   ],
   "metadata": {
    "collapsed": false,
    "pycharm": {
     "name": "#%% md\n"
    }
   }
  },
  {
   "cell_type": "markdown",
   "source": [
    "## Plot the histogram"
   ],
   "metadata": {
    "collapsed": false,
    "pycharm": {
     "name": "#%% md\n"
    }
   }
  },
  {
   "cell_type": "code",
   "execution_count": 675,
   "outputs": [],
   "source": [
    "x = np.arange(mean - 4 * sd, mean + 4 * sd)\n",
    "pdf = norm.pdf(x, loc = mean, scale = sd)"
   ],
   "metadata": {
    "collapsed": false,
    "pycharm": {
     "name": "#%%\n"
    }
   }
  },
  {
   "cell_type": "markdown",
   "source": [
    "### 10 bins"
   ],
   "metadata": {
    "collapsed": false,
    "pycharm": {
     "name": "#%% md\n"
    }
   }
  },
  {
   "cell_type": "code",
   "execution_count": 676,
   "outputs": [
    {
     "data": {
      "text/plain": "<Figure size 432x288 with 1 Axes>",
      "image/png": "[encoded data removed]"
     },
     "metadata": {},
     "output_type": "display_data"
    }
   ],
   "source": [
    "plt.title(\"Normal Distribution Array of size 10000\")\n",
    "plt.hist(normal_array, bins=10, density=True)\n",
    "plt.plot(x, pdf, linewidth=5)\n",
    "plt.show()"
   ],
   "metadata": {
    "collapsed": false,
    "pycharm": {
     "name": "#%%\n"
    }
   }
  },
  {
   "cell_type": "markdown",
   "source": [
    "### 20 bins"
   ],
   "metadata": {
    "collapsed": false,
    "pycharm": {
     "name": "#%% md\n"
    }
   }
  },
  {
   "cell_type": "code",
   "execution_count": 677,
   "outputs": [
    {
     "data": {
      "text/plain": "<Figure size 432x288 with 1 Axes>",
      "image/png": "[encoded data removed]"
     },
     "metadata": {},
     "output_type": "display_data"
    }
   ],
   "source": [
    "plt.hist(normal_array, bins=20, density=True)\n",
    "plt.plot(x, pdf, linewidth=5)\n",
    "plt.show()"
   ],
   "metadata": {
    "collapsed": false,
    "pycharm": {
     "name": "#%%\n"
    }
   }
  },
  {
   "cell_type": "markdown",
   "source": [
    "### 40 bins"
   ],
   "metadata": {
    "collapsed": false,
    "pycharm": {
     "name": "#%% md\n"
    }
   }
  },
  {
   "cell_type": "code",
   "execution_count": 678,
   "outputs": [
    {
     "data": {
      "text/plain": "<Figure size 432x288 with 1 Axes>",
      "image/png": "[encoded data removed]"
     },
     "metadata": {},
     "output_type": "display_data"
    }
   ],
   "source": [
    "plt.hist(normal_array, bins=40, density=True)\n",
    "plt.plot(x, pdf, linewidth=5)\n",
    "plt.show()"
   ],
   "metadata": {
    "collapsed": false,
    "pycharm": {
     "name": "#%%\n"
    }
   }
  },
  {
   "cell_type": "markdown",
   "source": [
    "# Part 2"
   ],
   "metadata": {
    "collapsed": false,
    "pycharm": {
     "name": "#%% md\n"
    }
   }
  },
  {
   "cell_type": "markdown",
   "source": [
    "## Task 1"
   ],
   "metadata": {
    "collapsed": false,
    "pycharm": {
     "name": "#%% md\n"
    }
   }
  },
  {
   "cell_type": "markdown",
   "source": [
    "Read the CSV data and display the first 5 rows."
   ],
   "metadata": {
    "collapsed": false,
    "pycharm": {
     "name": "#%% md\n"
    }
   }
  },
  {
   "cell_type": "code",
   "execution_count": 679,
   "outputs": [
    {
     "data": {
      "text/plain": "                  Date  BV-MC  CV-MC  ED-MC  EN-MC  H3-MC  H3-MC-CO  HA-MC  \\\n0  2021-01-01 00:00:00   40.0   26.5   30.1    5.4    7.8       6.8   24.6   \n1  2021-01-01 01:00:00   41.2   25.5   31.2    4.9    5.4       3.8   30.4   \n2  2021-01-01 02:00:00   27.0   26.0   27.3    5.5    4.4       3.5   30.5   \n3  2021-01-01 03:00:00   27.1   25.5   16.8    6.7    3.3       2.6   31.1   \n4  2021-01-01 04:00:00   30.2   26.0    8.6    6.3    3.1       2.6   34.5   \n\n   HC-MC  HV-MC  ...  NR-MC  RP-MC  RS-MC  RS-MC-CO  SF-MC  SM-MC-CO  \\\n0    2.1   42.6  ...   30.2   27.6   12.4      12.0   20.9      41.2   \n1    2.1   33.8  ...   36.8   26.4   13.8      13.4   20.5      42.4   \n2    2.2   41.3  ...   39.8   26.4   17.6      15.6   23.0      45.4   \n3    2.9   37.6  ...   33.9   36.1   19.5      16.5   25.6      38.1   \n4    3.7   24.8  ...   34.2   33.6   18.6      15.8   24.0      40.4   \n\n   SM-MC-CO2  UT-MC  UT-MC-CO  V4-MC  \n0       46.5   21.7       NaN   14.6  \n1       49.3   13.3       NaN   15.5  \n2       52.5   19.4       NaN   17.2  \n3       42.8   27.7       NaN   14.9  \n4       45.5   27.9       NaN   13.7  \n\n[5 rows x 23 columns]",
      "text/html": "<div>\n<style scoped>\n    .dataframe tbody tr th:only-of-type {\n        vertical-align: middle;\n    }\n\n    .dataframe tbody tr th {\n        vertical-align: top;\n    }\n\n    .dataframe thead th {\n        text-align: right;\n    }\n</style>\n<table border=\"1\" class=\"dataframe\">\n  <thead>\n    <tr style=\"text-align: right;\">\n      <th></th>\n      <th>Date</th>\n      <th>BV-MC</th>\n      <th>CV-MC</th>\n      <th>ED-MC</th>\n      <th>EN-MC</th>\n      <th>H3-MC</th>\n      <th>H3-MC-CO</th>\n      <th>HA-MC</th>\n      <th>HC-MC</th>\n      <th>HV-MC</th>\n      <th>...</th>\n      <th>NR-MC</th>\n      <th>RP-MC</th>\n      <th>RS-MC</th>\n      <th>RS-MC-CO</th>\n      <th>SF-MC</th>\n      <th>SM-MC-CO</th>\n      <th>SM-MC-CO2</th>\n      <th>UT-MC</th>\n      <th>UT-MC-CO</th>\n      <th>V4-MC</th>\n    </tr>\n  </thead>\n  <tbody>\n    <tr>\n      <th>0</th>\n      <td>2021-01-01 00:00:00</td>\n      <td>40.0</td>\n      <td>26.5</td>\n      <td>30.1</td>\n      <td>5.4</td>\n      <td>7.8</td>\n      <td>6.8</td>\n      <td>24.6</td>\n      <td>2.1</td>\n      <td>42.6</td>\n      <td>...</td>\n      <td>30.2</td>\n      <td>27.6</td>\n      <td>12.4</td>\n      <td>12.0</td>\n      <td>20.9</td>\n      <td>41.2</td>\n      <td>46.5</td>\n      <td>21.7</td>\n      <td>NaN</td>\n      <td>14.6</td>\n    </tr>\n    <tr>\n      <th>1</th>\n      <td>2021-01-01 01:00:00</td>\n      <td>41.2</td>\n      <td>25.5</td>\n      <td>31.2</td>\n      <td>4.9</td>\n      <td>5.4</td>\n      <td>3.8</td>\n      <td>30.4</td>\n      <td>2.1</td>\n      <td>33.8</td>\n      <td>...</td>\n      <td>36.8</td>\n      <td>26.4</td>\n      <td>13.8</td>\n      <td>13.4</td>\n      <td>20.5</td>\n      <td>42.4</td>\n      <td>49.3</td>\n      <td>13.3</td>\n      <td>NaN</td>\n      <td>15.5</td>\n    </tr>\n    <tr>\n      <th>2</th>\n      <td>2021-01-01 02:00:00</td>\n      <td>27.0</td>\n      <td>26.0</td>\n      <td>27.3</td>\n      <td>5.5</td>\n      <td>4.4</td>\n      <td>3.5</td>\n      <td>30.5</td>\n      <td>2.2</td>\n      <td>41.3</td>\n      <td>...</td>\n      <td>39.8</td>\n      <td>26.4</td>\n      <td>17.6</td>\n      <td>15.6</td>\n      <td>23.0</td>\n      <td>45.4</td>\n      <td>52.5</td>\n      <td>19.4</td>\n      <td>NaN</td>\n      <td>17.2</td>\n    </tr>\n    <tr>\n      <th>3</th>\n      <td>2021-01-01 03:00:00</td>\n      <td>27.1</td>\n      <td>25.5</td>\n      <td>16.8</td>\n      <td>6.7</td>\n      <td>3.3</td>\n      <td>2.6</td>\n      <td>31.1</td>\n      <td>2.9</td>\n      <td>37.6</td>\n      <td>...</td>\n      <td>33.9</td>\n      <td>36.1</td>\n      <td>19.5</td>\n      <td>16.5</td>\n      <td>25.6</td>\n      <td>38.1</td>\n      <td>42.8</td>\n      <td>27.7</td>\n      <td>NaN</td>\n      <td>14.9</td>\n    </tr>\n    <tr>\n      <th>4</th>\n      <td>2021-01-01 04:00:00</td>\n      <td>30.2</td>\n      <td>26.0</td>\n      <td>8.6</td>\n      <td>6.3</td>\n      <td>3.1</td>\n      <td>2.6</td>\n      <td>34.5</td>\n      <td>3.7</td>\n      <td>24.8</td>\n      <td>...</td>\n      <td>34.2</td>\n      <td>33.6</td>\n      <td>18.6</td>\n      <td>15.8</td>\n      <td>24.0</td>\n      <td>40.4</td>\n      <td>45.5</td>\n      <td>27.9</td>\n      <td>NaN</td>\n      <td>13.7</td>\n    </tr>\n  </tbody>\n</table>\n<p>5 rows × 23 columns</p>\n</div>"
     },
     "execution_count": 679,
     "metadata": {},
     "output_type": "execute_result"
    }
   ],
   "source": [
    "data = pd.read_csv(\"2021-PM2.5.csv\")\n",
    "data.head() # Display the first n=5 rows"
   ],
   "metadata": {
    "collapsed": false,
    "pycharm": {
     "name": "#%%\n"
    }
   }
  },
  {
   "cell_type": "markdown",
   "source": [
    "Select and display BV-MC station data."
   ],
   "metadata": {
    "collapsed": false,
    "pycharm": {
     "name": "#%% md\n"
    }
   }
  },
  {
   "cell_type": "code",
   "execution_count": 680,
   "outputs": [
    {
     "data": {
      "text/plain": "                  Date  BV-MC\n0  2021-01-01 00:00:00   40.0\n1  2021-01-01 01:00:00   41.2\n2  2021-01-01 02:00:00   27.0\n3  2021-01-01 03:00:00   27.1\n4  2021-01-01 04:00:00   30.2",
      "text/html": "<div>\n<style scoped>\n    .dataframe tbody tr th:only-of-type {\n        vertical-align: middle;\n    }\n\n    .dataframe tbody tr th {\n        vertical-align: top;\n    }\n\n    .dataframe thead th {\n        text-align: right;\n    }\n</style>\n<table border=\"1\" class=\"dataframe\">\n  <thead>\n    <tr style=\"text-align: right;\">\n      <th></th>\n      <th>Date</th>\n      <th>BV-MC</th>\n    </tr>\n  </thead>\n  <tbody>\n    <tr>\n      <th>0</th>\n      <td>2021-01-01 00:00:00</td>\n      <td>40.0</td>\n    </tr>\n    <tr>\n      <th>1</th>\n      <td>2021-01-01 01:00:00</td>\n      <td>41.2</td>\n    </tr>\n    <tr>\n      <th>2</th>\n      <td>2021-01-01 02:00:00</td>\n      <td>27.0</td>\n    </tr>\n    <tr>\n      <th>3</th>\n      <td>2021-01-01 03:00:00</td>\n      <td>27.1</td>\n    </tr>\n    <tr>\n      <th>4</th>\n      <td>2021-01-01 04:00:00</td>\n      <td>30.2</td>\n    </tr>\n  </tbody>\n</table>\n</div>"
     },
     "execution_count": 680,
     "metadata": {},
     "output_type": "execute_result"
    }
   ],
   "source": [
    "bv_data = data[[\"Date\", \"BV-MC\"]]\n",
    "bv_data.head()"
   ],
   "metadata": {
    "collapsed": false,
    "pycharm": {
     "name": "#%%\n"
    }
   }
  },
  {
   "cell_type": "markdown",
   "source": [
    "Analyse the data"
   ],
   "metadata": {
    "collapsed": false,
    "pycharm": {
     "name": "#%% md\n"
    }
   }
  },
  {
   "cell_type": "code",
   "execution_count": 681,
   "outputs": [
    {
     "name": "stdout",
     "output_type": "stream",
     "text": [
      "<class 'str'>\n",
      "<class 'numpy.float64'>\n"
     ]
    }
   ],
   "source": [
    "# Check data type\n",
    "print(type(bv_data[\"Date\"][0]))\n",
    "print(type(bv_data[\"BV-MC\"][0]))\n",
    "data_array = bv_data[\"BV-MC\"]"
   ],
   "metadata": {
    "collapsed": false,
    "pycharm": {
     "name": "#%%\n"
    }
   }
  },
  {
   "cell_type": "code",
   "execution_count": 682,
   "outputs": [
    {
     "name": "stdout",
     "output_type": "stream",
     "text": [
      "NumPy Mean       : 9.287264488433111\n",
      "NumPy SD         : 9.804000628046424\n"
     ]
    }
   ],
   "source": [
    "# Calculate mean and standard deviation\n",
    "data_list = np.array(data_array.values.tolist())\n",
    "\n",
    "# custom_mean = calculateMean(data_list)\n",
    "# custom_sd = calculateSd(data_list, custom_mean)\n",
    "numpy_mean = np.mean(data_array)\n",
    "numpy_sd = np.std(data_array)\n",
    "\n",
    "print(\"NumPy Mean       :\", numpy_mean)\n",
    "print(\"NumPy SD         :\", numpy_sd)"
   ],
   "metadata": {
    "collapsed": false,
    "pycharm": {
     "name": "#%%\n"
    }
   }
  },
  {
   "cell_type": "markdown",
   "source": [
    "The average PM2.5 for BV-MC station is 9.28, while the standard deviation is 9.80."
   ],
   "metadata": {
    "collapsed": false,
    "pycharm": {
     "name": "#%% md\n"
    }
   }
  },
  {
   "cell_type": "markdown",
   "source": [
    "## Task 2"
   ],
   "metadata": {
    "collapsed": false,
    "pycharm": {
     "name": "#%% md\n"
    }
   }
  },
  {
   "cell_type": "markdown",
   "source": [
    "Set index and fix dtype"
   ],
   "metadata": {
    "collapsed": false,
    "pycharm": {
     "name": "#%% md\n"
    }
   }
  },
  {
   "cell_type": "code",
   "execution_count": 683,
   "outputs": [
    {
     "data": {
      "text/plain": "                                    Date  BV-MC\nDate                                           \n2021-01-01 00:00:00  2021-01-01 00:00:00   40.0\n2021-01-01 01:00:00  2021-01-01 01:00:00   41.2\n2021-01-01 02:00:00  2021-01-01 02:00:00   27.0\n2021-01-01 03:00:00  2021-01-01 03:00:00   27.1\n2021-01-01 04:00:00  2021-01-01 04:00:00   30.2",
      "text/html": "<div>\n<style scoped>\n    .dataframe tbody tr th:only-of-type {\n        vertical-align: middle;\n    }\n\n    .dataframe tbody tr th {\n        vertical-align: top;\n    }\n\n    .dataframe thead th {\n        text-align: right;\n    }\n</style>\n<table border=\"1\" class=\"dataframe\">\n  <thead>\n    <tr style=\"text-align: right;\">\n      <th></th>\n      <th>Date</th>\n      <th>BV-MC</th>\n    </tr>\n    <tr>\n      <th>Date</th>\n      <th></th>\n      <th></th>\n    </tr>\n  </thead>\n  <tbody>\n    <tr>\n      <th>2021-01-01 00:00:00</th>\n      <td>2021-01-01 00:00:00</td>\n      <td>40.0</td>\n    </tr>\n    <tr>\n      <th>2021-01-01 01:00:00</th>\n      <td>2021-01-01 01:00:00</td>\n      <td>41.2</td>\n    </tr>\n    <tr>\n      <th>2021-01-01 02:00:00</th>\n      <td>2021-01-01 02:00:00</td>\n      <td>27.0</td>\n    </tr>\n    <tr>\n      <th>2021-01-01 03:00:00</th>\n      <td>2021-01-01 03:00:00</td>\n      <td>27.1</td>\n    </tr>\n    <tr>\n      <th>2021-01-01 04:00:00</th>\n      <td>2021-01-01 04:00:00</td>\n      <td>30.2</td>\n    </tr>\n  </tbody>\n</table>\n</div>"
     },
     "execution_count": 683,
     "metadata": {},
     "output_type": "execute_result"
    }
   ],
   "source": [
    "bv_data.index = pd.to_datetime(bv_data.Date)\n",
    "bv_data.head()"
   ],
   "metadata": {
    "collapsed": false,
    "pycharm": {
     "name": "#%%\n"
    }
   }
  },
  {
   "cell_type": "markdown",
   "source": [
    "Plot the data"
   ],
   "metadata": {
    "collapsed": false,
    "pycharm": {
     "name": "#%% md\n"
    }
   }
  },
  {
   "cell_type": "code",
   "execution_count": 684,
   "outputs": [
    {
     "data": {
      "text/plain": "<Figure size 432x288 with 1 Axes>",
      "image/png": "[encoded data removed]"
     },
     "metadata": {},
     "output_type": "display_data"
    }
   ],
   "source": [
    "plt.style.use('ggplot')\n",
    "bv_data[[\"BV-MC\"]].plot(kind=\"line\")\n",
    "plt.show()"
   ],
   "metadata": {
    "collapsed": false,
    "pycharm": {
     "name": "#%%\n"
    }
   }
  },
  {
   "cell_type": "markdown",
   "source": [
    "## Task 3"
   ],
   "metadata": {
    "collapsed": false,
    "pycharm": {
     "name": "#%% md\n"
    }
   }
  },
  {
   "cell_type": "markdown",
   "source": [
    "### Plot monthly average as a bar graph"
   ],
   "metadata": {
    "collapsed": false,
    "pycharm": {
     "name": "#%% md\n"
    }
   }
  },
  {
   "cell_type": "code",
   "execution_count": 685,
   "outputs": [
    {
     "data": {
      "text/plain": "<Figure size 432x288 with 1 Axes>",
      "image/png": "[encoded data removed]"
     },
     "metadata": {},
     "output_type": "display_data"
    }
   ],
   "source": [
    "monthly_average = bv_data.groupby(lambda date: date.month).agg(np.mean)\n",
    "monthly_average.plot(kind=\"bar\")\n",
    "plt.show()"
   ],
   "metadata": {
    "collapsed": false,
    "pycharm": {
     "name": "#%%\n"
    }
   }
  },
  {
   "cell_type": "markdown",
   "source": [
    "August seems to have the highest PM2.5 levels and February the lowest."
   ],
   "metadata": {
    "collapsed": false,
    "pycharm": {
     "name": "#%% md\n"
    }
   }
  },
  {
   "cell_type": "markdown",
   "source": [
    "### Plot hourly average over the year"
   ],
   "metadata": {
    "collapsed": false,
    "pycharm": {
     "name": "#%% md\n"
    }
   }
  },
  {
   "cell_type": "code",
   "execution_count": 686,
   "outputs": [
    {
     "data": {
      "text/plain": "<Figure size 432x288 with 1 Axes>",
      "image/png": "[encoded data removed]"
     },
     "metadata": {},
     "output_type": "display_data"
    }
   ],
   "source": [
    "hourly_average = bv_data.groupby(lambda date: date.hour).agg(np.mean)\n",
    "hourly_average.plot(kind=\"bar\")\n",
    "plt.show()"
   ],
   "metadata": {
    "collapsed": false,
    "pycharm": {
     "name": "#%%\n"
    }
   }
  },
  {
   "cell_type": "markdown",
   "source": [
    "Seems like the highest PM2.5 levels are during the rush hour start, i.e. 09:00 AM, while the lowest is at 3 PM."
   ],
   "metadata": {
    "collapsed": false,
    "pycharm": {
     "name": "#%% md\n"
    }
   }
  },
  {
   "cell_type": "markdown",
   "source": [
    "## Task 4"
   ],
   "metadata": {
    "collapsed": false,
    "pycharm": {
     "name": "#%% md\n"
    }
   }
  },
  {
   "cell_type": "markdown",
   "source": [
    "### Monthly Box and Whisker Plot"
   ],
   "metadata": {
    "collapsed": false,
    "pycharm": {
     "name": "#%% md\n"
    }
   }
  },
  {
   "cell_type": "code",
   "execution_count": 687,
   "outputs": [
    {
     "data": {
      "text/plain": "<Figure size 432x288 with 1 Axes>",
      "image/png": "[encoded data removed]"
     },
     "metadata": {},
     "output_type": "display_data"
    }
   ],
   "source": [
    "monthly_average.plot(kind=\"box\")\n",
    "plt.show()"
   ],
   "metadata": {
    "collapsed": false,
    "pycharm": {
     "name": "#%%\n"
    }
   }
  },
  {
   "cell_type": "markdown",
   "source": [
    "Outliers are present in this data set, and it implies that the PM2.5 values are significantly less compared to it."
   ],
   "metadata": {
    "collapsed": false,
    "pycharm": {
     "name": "#%% md\n"
    }
   }
  },
  {
   "cell_type": "markdown",
   "source": [
    "### Hourly Box and Whisker plot"
   ],
   "metadata": {
    "collapsed": false,
    "pycharm": {
     "name": "#%% md\n"
    }
   }
  },
  {
   "cell_type": "code",
   "execution_count": 688,
   "outputs": [
    {
     "data": {
      "text/plain": "<Figure size 432x288 with 1 Axes>",
      "image/png": "[encoded data removed]"
     },
     "metadata": {},
     "output_type": "display_data"
    }
   ],
   "source": [
    "hourly_average.plot(kind=\"box\")\n",
    "plt.show()"
   ],
   "metadata": {
    "collapsed": false,
    "pycharm": {
     "name": "#%%\n"
    }
   }
  },
  {
   "cell_type": "markdown",
   "source": [
    "Outliers are present in this data set, and it implies that the PM2.5 values are slightly less compared to it. Also that the pollution occurs mostly between 8 AM to about 10:30 AM."
   ],
   "metadata": {
    "collapsed": false,
    "pycharm": {
     "name": "#%% md\n"
    }
   }
  },
  {
   "cell_type": "markdown",
   "source": [],
   "metadata": {
    "collapsed": false,
    "pycharm": {
     "name": "#%% md\n"
    }
   }
  }
 ],
 "metadata": {
  "kernelspec": {
   "display_name": "Python 3",
   "language": "python",
   "name": "python3"
  },
  "language_info": {
   "codemirror_mode": {
    "name": "ipython",
    "version": 2
   },
   "file_extension": ".py",
   "mimetype": "text/x-python",
   "name": "python",
   "nbconvert_exporter": "python",
   "pygments_lexer": "ipython2",
   "version": "2.7.6"
  }
 },
 "nbformat": 4,
 "nbformat_minor": 0
}